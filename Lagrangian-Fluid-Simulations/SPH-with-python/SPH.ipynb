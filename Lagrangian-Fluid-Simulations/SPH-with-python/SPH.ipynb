{
 "cells": [
  {
   "cell_type": "code",
   "execution_count": 1,
   "id": "b44efb7d-c88d-4b3d-a917-7a9b3f37c0c1",
   "metadata": {},
   "outputs": [],
   "source": [
    "import numpy as np\n",
    "import matplotlib.pyplot as plt\n",
    "from matplotlib.animation import FuncAnimation\n"
   ]
  },
  {
   "cell_type": "code",
   "execution_count": 2,
   "id": "9cb7b011-35ca-4215-9189-40bedd142698",
   "metadata": {},
   "outputs": [],
   "source": [
    "# https://web.archive.org/web/20090722233436/http://blog.brandonpelfrey.com/?p=303\n",
    "\n",
    "class Neighbor:\n",
    "    def __init__(self, i, j, q, q2): # q and q2 are weighted distances \n",
    "        # int\n",
    "        self.i = i \n",
    "        self.j = j\n",
    "        # float\n",
    "        self.q = q\n",
    "        self.q2 = q2\n",
    "\n",
    "    \n",
    "\n",
    "class Particle:\n",
    "    def __init__(self, pos, mass, rho, sigma, beta): # sigma and beta controls the viscosity of the flow\n",
    "        # vec2\n",
    "        self.pos = pos\n",
    "        self.pos_old = pos + 0.001 * np.random.rand()\n",
    "        self.vel = np.zeros(2)\n",
    "        self.force = np.array([0,-G])\n",
    "        # float\n",
    "        self.mass = mass\n",
    "        self.rho = rho\n",
    "        self.rho_near = 0\n",
    "        self.press = 0\n",
    "        self.press_near = 0\n",
    "        self.sigma = sigma\n",
    "        self.beta = beta\n",
    "        # list\n",
    "        self.neighbors = []\n",
    "\n",
    "    def add_neighbor(self, neighbor):\n",
    "        self.neighbors.append(neighbor)\n",
    "\n",
    "    def reset(self):\n",
    "        self.rho = 0\n",
    "        self.rho_near = 0\n",
    "        self.neighbors = []\n",
    "\n"
   ]
  },
  {
   "cell_type": "code",
   "execution_count": 31,
   "id": "b6fd2c81-af89-4e8c-95b6-79219567c72e",
   "metadata": {},
   "outputs": [],
   "source": [
    "WIDTH = HEIGHT = 50\n",
    "N = 250 # Number of Particles in the simulation\n",
    "dt = 1 # time-step\n",
    "\n",
    "\n",
    "G = 0.02 * 0.25 # Gravitational Constant for our simulation\n",
    "\n",
    "spacing = 2 # Spacing of particles\n",
    "k = spacing / 1000 # Far pressure weight\n",
    "k_near = k*10 # Near pressure weight\n",
    "rest_density = 3 # Rest Density\n",
    "r=spacing*1.25 # Radius of Support\n",
    "rsq=r*r # squared for performance\n",
    "\n",
    "SIM_W = WIDTH # width of the sim\n",
    "SIM_H = HEIGHT # height of the sim\n",
    "bottom = 0 # The floor of the world\n",
    "\n",
    "mass = 1\n",
    "rho = 0\n",
    "sigma = 0.1\n",
    "beta = 0\n",
    "\n",
    "def init_particles():\n",
    "    particle_list = []\n",
    "    for x in range(1, WIDTH, spacing):\n",
    "        for y in range(1, HEIGHT, spacing):\n",
    "            pos = np.array([x,y])\n",
    "            particle = Particle(pos, mass, rho, sigma, beta)\n",
    "            if len(particle_list)<N:\n",
    "                particle_list.append(particle)\n",
    "            else: break\n",
    "    return particle_list\n",
    "\n",
    "    \n",
    "\n",
    "def init_particles():\n",
    "    particle_list = []\n",
    "    for _ in range(N):\n",
    "        x = np.random.random() * WIDTH\n",
    "        y = np.random.random() * HEIGHT\n",
    "        pos = np.array([x,y])\n",
    "        \n",
    "        particle = Particle(pos, mass, rho, sigma, beta)\n",
    "        particle_list.append(particle)\n",
    "\n",
    "    return particle_list\n",
    "    \n",
    "xmin = ymin = 0\n",
    "xmax = WIDTH\n",
    "ymax = HEIGHT/4\n",
    "\n",
    "def init_particles():\n",
    "    particle_list = []\n",
    "    x_pos, y_pos = xmin, ymin\n",
    "    for _ in range(N):\n",
    "        pos = np.array([x_pos,y_pos])\n",
    "        particle = Particle(pos, mass, rho, sigma, beta)\n",
    "        particle_list.append(particle)\n",
    "        x_pos += spacing\n",
    "        if x_pos > xmax:\n",
    "            x_pos = xmin\n",
    "            y_pos += spacing\n",
    "\n",
    "    return particle_list\n",
    "\n",
    "def init_particles():\n",
    "    particle_list = []\n",
    "    for _ in range(N):\n",
    "        x = np.random.random() * WIDTH/3\n",
    "        y = np.random.random() * HEIGHT/3\n",
    "        pos = np.array([x,y])\n",
    "        \n",
    "        particle = Particle(pos, mass, rho, sigma, beta)\n",
    "        particle_list.append(particle)\n",
    "\n",
    "    return particle_list\n",
    "\n"
   ]
  },
  {
   "cell_type": "code",
   "execution_count": 4,
   "id": "c8b06faa-d605-4f5a-a5fb-e1300d63a216",
   "metadata": {},
   "outputs": [],
   "source": [
    "# Density: to know the density of “stuff” around a particle\n",
    "def density_update(particle_list):\n",
    "    for i, particle_i in enumerate(particle_list):\n",
    "        d = 0\n",
    "        dn = 0\n",
    "        for j, particle_j in enumerate(particle_list):\n",
    "            # By doing this test, we insure there is only one computation per pair of particles\n",
    "            # And that there is no computation between a particle and itself\n",
    "            if (i >= j): continue \n",
    "    \n",
    "            rij = particle_j.pos - particle_i.pos\n",
    "            dist2 = np.linalg.norm(rij)**2 # square distance\n",
    "            if dist2 < rsq:\n",
    "                length = np.sqrt(dist2)\n",
    "    \n",
    "                q = 1 - length / r\n",
    "                q2 = q**2\n",
    "                q3 = q**3\n",
    "                \n",
    "                d += q2\n",
    "                dn += q3\n",
    "                particle_j.rho += q2\n",
    "                particle_j.rho_near += q3\n",
    "    \n",
    "                neighbor = Neighbor(i, j, q, q2)\n",
    "                particle_i.add_neighbor(neighbor)\n",
    "    \n",
    "        particle_i.rho += d\n",
    "        particle_i.rho_near += dn\n",
    "\n",
    "    return particle_list\n",
    "    "
   ]
  },
  {
   "cell_type": "code",
   "execution_count": 5,
   "id": "e4dac785-8445-4c2c-9dca-e56308b7f182",
   "metadata": {},
   "outputs": [],
   "source": [
    "# Visualize frame\n",
    "def visualize(particle_list):\n",
    "    pos_list = []\n",
    "    for particle in particle_list:\n",
    "        pos_list.append(particle.pos)\n",
    "    x_values = [pos[0] for pos in pos_list]\n",
    "    y_values = [pos[1] for pos in pos_list]\n",
    "    plt.plot(x_values, y_values, 'bo')  \n",
    "    return pos_list\n",
    "\n"
   ]
  },
  {
   "cell_type": "code",
   "execution_count": 6,
   "id": "c8b3e814-122f-4ee2-a334-4f5b0379d33f",
   "metadata": {},
   "outputs": [],
   "source": [
    "# Pressure Calculation\n",
    "def pressure_update(particle_list):\n",
    "    for i, particle_i in enumerate(particle_list):\n",
    "        particle_i.press = k * (particle_i.rho - rest_density)\n",
    "        particle_i.press_near = k_near * particle_i.rho_near\n",
    "\n",
    "    return particle_list\n",
    "\n",
    "\n",
    "# Pressure Force Calculation:\n",
    "# We will force particles in or out from their neighbors based on their difference from the rest density.\n",
    "def pressure_force_update(particle_list):\n",
    "    for i, particle_i in enumerate(particle_list):\n",
    "        dx = np.zeros(2)\n",
    "        # ncount = len(particle_i.neighbors)\n",
    "        for neighbor in particle_i.neighbors:\n",
    "            j = neighbor.j\n",
    "            q = neighbor.q\n",
    "            q2 = neighbor.q2\n",
    "            particle_j = particle_list[j]\n",
    "            rij = rij = particle_j.pos - particle_i.pos\n",
    "            dm = (particle_i.press + particle_j.press) * q + \\\n",
    "                (particle_i.press_near + particle_j.press_near) * q2 # magnitude of the force\n",
    "            direction = rij / np.linalg.norm(rij) # unit direction of the force\n",
    "            D = direction * dm \n",
    "            dx += D \n",
    "            particle_j.force += D\n",
    "    \n",
    "        particle_i.force -= dx\n",
    "\n",
    "    return particle_list\n",
    "\n",
    "            \n",
    "    \n"
   ]
  },
  {
   "cell_type": "code",
   "execution_count": 7,
   "id": "8e5e4986-bd86-43bf-b123-c8248b6a95ba",
   "metadata": {},
   "outputs": [],
   "source": [
    "# Viscous Force Calculation (later)\n"
   ]
  },
  {
   "cell_type": "code",
   "execution_count": 8,
   "id": "a3e4da7b-b0af-45cf-9255-5e2856a1f7ef",
   "metadata": {},
   "outputs": [],
   "source": [
    "# update per frame\n",
    "\n",
    "def update(particle_list = None):\n",
    "    for particle in particle_list:\n",
    "        particle.pos_old = particle.pos\n",
    "        particle.pos = np.add(particle.vel, particle.pos)\n",
    "        particle.pos = np.add(particle.force, particle.pos)\n",
    "        particle.force = np.array([0,-G])\n",
    "        particle.vel = particle.pos - particle.pos_old # for later\n",
    "    \n",
    "    \t# If the velocity is really high, we're going to cheat and cap it.\n",
    "    \t# This will not damp all motion. It's not physically-based at all. Just\n",
    "        max_vel = 2\n",
    "        vel_mag = np.linalg.norm(particle.vel)**2\n",
    "        if vel_mag > max_vel**2:\n",
    "            particle.vel = particle.vel * 0.5\n",
    "            \n",
    "        # If the particle is outside the bounds of the world, then\n",
    "        # Make a little spring force to push it back in.\n",
    "        if particle.pos[0] < 0: particle.force = particle.force - np.array([particle.pos[0] - 0, 0]) / 8\n",
    "        if particle.pos[0] > SIM_W: particle.force = particle.force - np.array([particle.pos[0] - SIM_W,0]) / 8\n",
    "        if particle.pos[1] < bottom: particle.force = particle.force - np.array([0, particle.pos[1] - bottom]) / 8\n",
    "        if particle.pos[1] > SIM_H: particle.force = particle.force - np.array([0, particle.pos[1] - SIM_H]) / 8\n",
    "    \n",
    "        particle.reset()\n",
    "\n",
    "    particle_list = density_update(particle_list)\n",
    "    particle_list = pressure_update(particle_list)\n",
    "    particle_list = pressure_force_update(particle_list)\n",
    "        \n",
    "    return particle_list\n",
    "    "
   ]
  },
  {
   "cell_type": "code",
   "execution_count": 32,
   "id": "303c6e20-d9a6-4dfb-bdd3-3519789a6848",
   "metadata": {},
   "outputs": [],
   "source": [
    "num_frames = 500\n",
    "\n",
    "def run_simulation(num_frames):\n",
    "    positions_list = []\n",
    "    particle_list = init_particles()\n",
    "\n",
    "    for _ in range(num_frames):\n",
    "        particle_list = update(particle_list)\n",
    "        positions = [particle.pos for particle in particle_list]\n",
    "        positions_list.append(positions)\n",
    "        \n",
    "    return np.array(positions_list)\n",
    "\n",
    "positions_list = run_simulation(num_frames)\n",
    "    "
   ]
  },
  {
   "cell_type": "code",
   "execution_count": 33,
   "id": "16601ca1-04c7-4698-8951-58dc8bd7dafe",
   "metadata": {},
   "outputs": [
    {
     "data": {
      "image/png": "[encoded data removed]",
      "text/plain": [
       "<Figure size 640x480 with 1 Axes>"
      ]
     },
     "metadata": {},
     "output_type": "display_data"
    }
   ],
   "source": [
    "def animate(frame):\n",
    "    plt.cla()  # Clear the current plot\n",
    "    plt.scatter(particles[frame][:, 0], particles[frame][:, 1], c='blue', marker='o')\n",
    "    plt.scatter(0,0);plt.scatter(0,HEIGHT); plt.scatter(WIDTH,0); plt.scatter(WIDTH,HEIGHT);\n",
    "    plt.xlabel('X-axis')\n",
    "    plt.ylabel('Y-axis')\n",
    "    plt.title('Fluid Simulation Frame {}'.format(frame))\n",
    "    # plt.xlim(0, SIM_W)  \n",
    "    # plt.ylim(0, SIM_H)  \n",
    "\n",
    "# Create the animation\n",
    "particles = positions_list\n",
    "fig = plt.figure()\n",
    "ani = FuncAnimation(fig, animate, frames=num_frames, interval=100)\n",
    "\n",
    "# Save the animation as a GIF\n",
    "ani.save('fluid_simulation.gif', writer='pillow', fps=10)\n",
    "\n",
    "plt.show()\n"
   ]
  },
  {
   "cell_type": "code",
   "execution_count": 11,
   "id": "abaad20e-60aa-4666-af01-0eaeb56b98cf",
   "metadata": {},
   "outputs": [
    {
     "data": {
      "image/png": "[encoded data removed]",
      "text/plain": [
       "<Figure size 640x480 with 1 Axes>"
      ]
     },
     "metadata": {},
     "output_type": "display_data"
    }
   ],
   "source": [
    "particle_list = init_particles()\n",
    "pos_list = visualize(particle_list)"
   ]
  },
  {
   "cell_type": "code",
   "execution_count": 12,
   "id": "85ae53e9-bc12-4938-b63b-f166b2b6fa09",
   "metadata": {},
   "outputs": [
    {
     "data": {
      "image/png": "[encoded data removed]",
      "text/plain": [
       "<Figure size 640x480 with 1 Axes>"
      ]
     },
     "metadata": {},
     "output_type": "display_data"
    }
   ],
   "source": [
    "particle_list = update(particle_list)\n",
    "pos_list = visualize(particle_list)"
   ]
  },
  {
   "cell_type": "code",
   "execution_count": 13,
   "id": "fcf1b179-4734-4a4f-90e2-7c13199cad14",
   "metadata": {},
   "outputs": [
    {
     "data": {
      "image/png": "[encoded data removed]",
      "text/plain": [
       "<Figure size 640x480 with 1 Axes>"
      ]
     },
     "metadata": {},
     "output_type": "display_data"
    }
   ],
   "source": [
    "\n",
    "# Example function to update the plot for each frame\n",
    "def update_frame(frame):\n",
    "    plt.cla()  # Clear the current plot\n",
    "    plt.scatter(particles[frame][:, 0], particles[frame][:, 1], c='blue', marker='o')  # Plot particles for the current frame\n",
    "    plt.xlabel('X-axis')\n",
    "    plt.ylabel('Y-axis')\n",
    "    plt.title('Fluid Simulation Frame {}'.format(frame))\n",
    "\n",
    "# Example data: particles positions for each frame\n",
    "# Replace this with actual data from your simulation\n",
    "num_frames = 10\n",
    "num_particles = 100\n",
    "particles = [np.random.rand(num_particles, 2) * 10 for _ in range(num_frames)]\n",
    "\n",
    "# Create the animation\n",
    "fig = plt.figure()\n",
    "ani = FuncAnimation(fig, update_frame, frames=num_frames, interval=100)\n",
    "\n",
    "# Save the animation as a GIF\n",
    "ani.save('fluid_simulation.gif', writer='pillow', fps=10)\n",
    "\n",
    "plt.show()\n"
   ]
  },
  {
   "cell_type": "code",
   "execution_count": null,
   "id": "cf55fed0-2ec6-4e60-9b21-fdd0f6bb8940",
   "metadata": {},
   "outputs": [],
   "source": [
    "# Update velocities and position\n",
    "def position_update(particle_list):\n",
    "    for particle in particle_list:\n",
    "        F = particle.force\n",
    "        m = particle.mass\n",
    "        vel_old = particle.vel\n",
    "        vel_new = F/m*dt + vel_old\n",
    "        particle.vel = vel_new\n",
    "        # particle.vel_old = vel_old\n",
    "        old_pos = particle.pos_old\n",
    "        new_pos = old_pos + vel_new * dt\n",
    "        \n",
    "    \n"
   ]
  },
  {
   "cell_type": "code",
   "execution_count": null,
   "id": "57ebdca8-bf87-42b5-b2d2-c623eab23c78",
   "metadata": {},
   "outputs": [],
   "source": []
  },
  {
   "cell_type": "code",
   "execution_count": null,
   "id": "dd7ac4de-d727-4bdf-9e44-20a91146382d",
   "metadata": {},
   "outputs": [],
   "source": []
  }
 ],
 "metadata": {
  "kernelspec": {
   "display_name": "Python 3 (ipykernel)",
   "language": "python",
   "name": "python3"
  },
  "language_info": {
   "codemirror_mode": {
    "name": "ipython",
    "version": 3
   },
   "file_extension": ".py",
   "mimetype": "text/x-python",
   "name": "python",
   "nbconvert_exporter": "python",
   "pygments_lexer": "ipython3",
   "version": "3.11.4"
  }
 },
 "nbformat": 4,
 "nbformat_minor": 5
}
