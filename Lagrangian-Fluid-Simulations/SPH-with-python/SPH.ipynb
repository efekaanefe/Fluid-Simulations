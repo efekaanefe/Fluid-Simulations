{
 "cells": [
  {
   "cell_type": "code",
   "execution_count": 1,
   "id": "b44efb7d-c88d-4b3d-a917-7a9b3f37c0c1",
   "metadata": {},
   "outputs": [],
   "source": [
    "import numpy as np\n",
    "import matplotlib.pyplot as plt\n"
   ]
  },
  {
   "cell_type": "code",
   "execution_count": null,
   "id": "9cb7b011-35ca-4215-9189-40bedd142698",
   "metadata": {},
   "outputs": [],
   "source": [
    "# https://web.archive.org/web/20090722233436/http://blog.brandonpelfrey.com/?p=303\n",
    "\n",
    "class Neighbor:\n",
    "    def __init__(self, i, j, q, q2):\n",
    "        # int\n",
    "        self.i = i\n",
    "        self.j = j\n",
    "        # float\n",
    "        self.q = q\n",
    "        self.q2 = q2\n",
    "\n",
    "class Particle:\n",
    "    def __init__(self, pos, pos_old, vel, force, mass, rho, rho_near, press, press_near, sigma, beta, neighbors):\n",
    "        # vec2\n",
    "        self.pos = pos\n",
    "        self.pos_old = pos_old\n",
    "        self.vel = vel\n",
    "        self.force = force\n",
    "        # float\n",
    "        self.mass = mass\n",
    "        self.rho = rho\n",
    "        self.rho_near = rho_near\n",
    "        self.press = press\n",
    "        self.press_near = press_near\n",
    "        self.sigma = sigma\n",
    "        self.beta = beta\n",
    "        # list\n",
    "        self.neighbors = neighbors\n"
   ]
  },
  {
   "cell_type": "code",
   "execution_count": null,
   "id": "f8874d9c-e639-48d0-b236-55635d871c5b",
   "metadata": {},
   "outputs": [],
   "source": [
    "r = 3 # radius of support\n",
    "rs1 = r**2 # square of the radius of support"
   ]
  }
 ],
 "metadata": {
  "kernelspec": {
   "display_name": "Python 3 (ipykernel)",
   "language": "python",
   "name": "python3"
  },
  "language_info": {
   "codemirror_mode": {
    "name": "ipython",
    "version": 3
   },
   "file_extension": ".py",
   "mimetype": "text/x-python",
   "name": "python",
   "nbconvert_exporter": "python",
   "pygments_lexer": "ipython3",
   "version": "3.11.4"
  }
 },
 "nbformat": 4,
 "nbformat_minor": 5
}
