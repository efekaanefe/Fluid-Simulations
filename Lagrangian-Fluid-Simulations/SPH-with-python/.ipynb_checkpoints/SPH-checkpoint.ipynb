{
 "cells": [
  {
   "cell_type": "code",
   "execution_count": 1,
   "id": "b44efb7d-c88d-4b3d-a917-7a9b3f37c0c1",
   "metadata": {},
   "outputs": [],
   "source": [
    "import numpy as np\n",
    "import matplotlib.pyplot as plt\n"
   ]
  },
  {
   "cell_type": "code",
   "execution_count": 2,
   "id": "9cb7b011-35ca-4215-9189-40bedd142698",
   "metadata": {},
   "outputs": [],
   "source": [
    "# https://web.archive.org/web/20090722233436/http://blog.brandonpelfrey.com/?p=303\n",
    "\n",
    "class Neighbor:\n",
    "    def __init__(self, i, j, q, q2): # q and q2 are weighted distances \n",
    "        # int\n",
    "        self.i = i \n",
    "        self.j = j\n",
    "        # float\n",
    "        self.q = q\n",
    "        self.q2 = q2\n",
    "\n",
    "    \n",
    "\n",
    "class Particle:\n",
    "    def __init__(self, pos, mass, rho, sigma, beta): # sigma and beta controls the viscosity of the flow\n",
    "        # vec2\n",
    "        self.pos = pos\n",
    "        self.pos_old = np.zeros(2)\n",
    "        self.vel = np.zeros(2)\n",
    "        self.force = np.zeros(2)\n",
    "        # float\n",
    "        self.mass = mass\n",
    "        self.rho = rho\n",
    "        self.rho_near = 0\n",
    "        self.press = 0\n",
    "        self.press_near = 0\n",
    "        self.sigma = sigma\n",
    "        self.beta = beta\n",
    "        # list\n",
    "        self.neighbors = []\n",
    "\n",
    "    def add_neighbor(self, neighbor):\n",
    "        self.neighbors.append(neighbor)\n",
    "\n"
   ]
  },
  {
   "cell_type": "code",
   "execution_count": 4,
   "id": "b6fd2c81-af89-4e8c-95b6-79219567c72e",
   "metadata": {},
   "outputs": [],
   "source": [
    "WIDTH = HEIGHT = 32\n",
    "N = 10 # Number of Particles in the simulation\n",
    "\n",
    "G = 0.02 * 0.25 # Gravitational Constant for our simulation\n",
    "spacing = 1 # Spacing of particles\n",
    "k = spacing / 1000 # Far pressure weight\n",
    "k_near = k*10 # Near pressure weight\n",
    "rest_density = 3 # Rest Density\n",
    "r=spacing*1.25 # Radius of Support\n",
    "rsq=r*r # squared for performance\n",
    "\n",
    "SIM_W = 50 # size of the world\n",
    "bottom = 0 # The floor of the world\n",
    "\n",
    "mass = 1\n",
    "rho = 1\n",
    "sigma = 1\n",
    "beta = 1\n",
    "\n",
    "particle_list = []\n",
    "for x in range(1, WIDTH, spacing):\n",
    "    for y in range(1, HEIGHT, spacing):\n",
    "        pos = np.array([x,y])\n",
    "        particle = Particle(pos, mass, rho, sigma, beta)\n",
    "        particle_list.append(particle)\n"
   ]
  },
  {
   "cell_type": "code",
   "execution_count": 5,
   "id": "c8b06faa-d605-4f5a-a5fb-e1300d63a216",
   "metadata": {},
   "outputs": [],
   "source": [
    "# Density: to know the density of “stuff” around a particle\n",
    "for i, particle_i in enumerate(particle_list):\n",
    "    d = 0\n",
    "    dn = 0\n",
    "    for j, particle_j in enumerate(particle_list):\n",
    "        # By doing this test, we insure there is only one computation per pair of particles\n",
    "        # And that there is no computation between a particle and itself\n",
    "        if (i >= j): continue \n",
    "\n",
    "        rij = particle_j.pos - particle_i.pos\n",
    "        dist2 = np.linalg.norm(rij)**2 # square distance\n",
    "        if dist2 < rsq:\n",
    "            length = np.sqrt(dist2)\n",
    "\n",
    "            q = 1 - length / r\n",
    "            q2 = q**2\n",
    "            q3 = q**3\n",
    "            \n",
    "            d += q2\n",
    "            dn += q3\n",
    "            particle_j.rho += q2\n",
    "            particle_j.rho_near += q3\n",
    "\n",
    "            neighbor = Neighbor(i, j, q, q2)\n",
    "            particle_i.add_neighbor(neighbor)\n",
    "\n",
    "    particle_i.rho += d\n",
    "    particle_i.rho_near += dn\n",
    "    "
   ]
  },
  {
   "cell_type": "code",
   "execution_count": 9,
   "id": "3fb84a19-08a3-44c2-b8dc-4fa4175e4de8",
   "metadata": {},
   "outputs": [
    {
     "name": "stdout",
     "output_type": "stream",
     "text": [
      "[1. 1.]\n"
     ]
    },
    {
     "data": {
      "text/plain": [
       "array([0.70710678, 0.70710678])"
      ]
     },
     "execution_count": 9,
     "metadata": {},
     "output_type": "execute_result"
    }
   ],
   "source": [
    "a = np.ones(2)\n",
    "print(a)\n",
    "\n",
    "magnitude = np.linalg.norm(a)\n",
    "\n",
    "# Get the unit vector\n",
    "unit_vector = a / magnitude\n",
    "unit_vector"
   ]
  },
  {
   "cell_type": "code",
   "execution_count": 17,
   "id": "c8b3e814-122f-4ee2-a334-4f5b0379d33f",
   "metadata": {},
   "outputs": [],
   "source": [
    "# Pressure Calculation\n",
    "for i, particle_i in enumerate(particle_list):\n",
    "    particle_i.press = k * (particle_i.rho - rest_density)\n",
    "    particle_i.press_near = k_near * particle_i.rho_near\n",
    "\n",
    "# Pressure Force Calculation:\n",
    "# We will force particles in or out from their neighbors based on their difference from the rest density.\n",
    "for i, particle_i in enumerate(particle_list):\n",
    "    dx = np.zeros(2)\n",
    "    # ncount = len(particle_i.neighbors)\n",
    "    for neighbor in particle_i.neighbors:\n",
    "        j = neighbor.j\n",
    "        rij = rij = particle_j.pos - particle_i.pos\n",
    "        dm = (particle_i.press + particle_j.press) * q + \\\n",
    "            (particle_i.press_near + particle_j.press_near) * q2 # magnitude of the force\n",
    "        direction = rij / np.linalg.norm(rij) # unit direction of the force\n",
    "        D = direction * dm \n",
    "        dx += D \n",
    "        particle_j.force += D\n",
    "\n",
    "    particle_i.force -= dx\n",
    "        \n",
    "\n"
   ]
  },
  {
   "cell_type": "code",
   "execution_count": null,
   "id": "a6f3f900-02d0-45ee-a8f9-224d9f066b85",
   "metadata": {},
   "outputs": [],
   "source": []
  },
  {
   "cell_type": "code",
   "execution_count": null,
   "id": "8e5e4986-bd86-43bf-b123-c8248b6a95ba",
   "metadata": {},
   "outputs": [],
   "source": [
    "# Viscous Force Calculation (later)\n"
   ]
  },
  {
   "cell_type": "code",
   "execution_count": null,
   "id": "cf55fed0-2ec6-4e60-9b21-fdd0f6bb8940",
   "metadata": {},
   "outputs": [],
   "source": []
  }
 ],
 "metadata": {
  "kernelspec": {
   "display_name": "Python 3 (ipykernel)",
   "language": "python",
   "name": "python3"
  },
  "language_info": {
   "codemirror_mode": {
    "name": "ipython",
    "version": 3
   },
   "file_extension": ".py",
   "mimetype": "text/x-python",
   "name": "python",
   "nbconvert_exporter": "python",
   "pygments_lexer": "ipython3",
   "version": "3.11.4"
  }
 },
 "nbformat": 4,
 "nbformat_minor": 5
}
