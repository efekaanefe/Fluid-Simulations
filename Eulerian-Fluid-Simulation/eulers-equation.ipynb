{
 "cells": [
  {
   "cell_type": "code",
   "execution_count": 1,
   "id": "c67061f9-fbb6-4b40-982e-027539357581",
   "metadata": {},
   "outputs": [],
   "source": [
    "import numpy as np\n",
    "import matplotlib.pyplot as plt \n"
   ]
  },
  {
   "cell_type": "code",
   "execution_count": 2,
   "id": "c92364fc-e97a-492f-b9ed-1bfabe3bcf26",
   "metadata": {},
   "outputs": [],
   "source": [
    "# UTILS FOR PLOTTING\n",
    "\n",
    "def plot_velocity_field(grid_X, grid_Y, velocity_field_u, velocity_field_v, title = \"Velocity Field\"):\n",
    "    plt.quiver(grid_X, grid_Y, velocity_field_u, velocity_field_v, scale=20)\n",
    "    plt.title(title)\n",
    "    plt.xlabel(\"X-axis\")\n",
    "    plt.ylabel(\"Y-axis\")\n",
    "    plt.show()"
   ]
  },
  {
   "cell_type": "code",
   "execution_count": 28,
   "id": "ad25bdca-d08e-4103-ae7d-0fc51a4883be",
   "metadata": {},
   "outputs": [],
   "source": [
    "# UTILS FOR CALCULATIONS REGARDING FLOW FIELDS\n",
    "\n",
    "def get_divergence_of_cell(i, j, u, v): # returns float\n",
    "    # should be able to consider when i and j are at the borders of the grid\n",
    "\n",
    "    if 0 <= i < ny*dy and 0 <= j < nx*dx:\n",
    "        d = u[i+1][j]-u[i][j] + v[i][j+1] - v[i][j]\n",
    "    else: \n",
    "        d = 0\n",
    "        print(\"out of boundaries\")\n",
    "    \n",
    "    return d\n",
    "\n",
    "def get_s_value_of_cell(i, j, s_field):\n",
    "    s = s_field[i+1][j] + s_field[i-1][j] + s_field[i][j+1] + s_field[i][j-1]\n",
    "    return s"
   ]
  },
  {
   "cell_type": "code",
   "execution_count": 41,
   "id": "f5c038c7-5d68-4e53-9693-824beda87160",
   "metadata": {},
   "outputs": [],
   "source": [
    "# INIT FIELDS \n",
    "# init grid, gravity and rho\n",
    "nx = ny = 28\n",
    "dx = dy = 1.0 # works when the spacing is the same\n",
    "h = dx\n",
    "\n",
    "# there would be a extra layer in the boundaries, which doesn't change its values, always zero\n",
    "x = np.arange(0, (nx+2) * dx, dx) \n",
    "y = np.arange(0, (ny+2) * dy, dy)\n",
    "grid_X, grid_Y = np.meshgrid(x, y) # staggered grid\n",
    "\n",
    "g =  -9.81 # in negative y direction (downwards)\n",
    "rho = 1000 # water\n",
    "\n",
    "# init velocity field:  vel_field_i = (u, v)\n",
    "velocity_field_u = np.zeros_like(grid_X) \n",
    "velocity_field_v = np.zeros_like(grid_Y) \n",
    "#plot_velocity_field(grid_X, grid_Y, velocity_field_u, velocity_field_v, title = \"initialized velocity field\")\n",
    "\n",
    "# init pressure field:  pressure_field_ij = p_ij\n",
    "pressure_field = np.zeros((nx, ny))\n",
    "\n",
    "# init numerical parameters\n",
    "dt = 0.01\n",
    "num_iterations = 100\n",
    "\n",
    "# s field, for obstacles and walls\n",
    "# s_ij = 0 -> wall, s_ij = 1 -> free space\n",
    "s_field = np.ones_like(grid_X) \n"
   ]
  },
  {
   "cell_type": "code",
   "execution_count": 42,
   "id": "014ea1b4-87af-4168-8d5a-6b8ada16fd87",
   "metadata": {},
   "outputs": [
    {
     "data": {
      "text/plain": [
       "(30, 30)"
      ]
     },
     "execution_count": 42,
     "metadata": {},
     "output_type": "execute_result"
    }
   ],
   "source": [
    "grid_X.shape"
   ]
  },
  {
   "cell_type": "code",
   "execution_count": 43,
   "id": "8833ade9-3dad-41b4-a46f-0711c53257bf",
   "metadata": {},
   "outputs": [],
   "source": [
    "## ASSUMPTIONS:\n",
    "# 1 - incompressible flow\n",
    "# 2 - steady flow\n",
    "\n",
    "cell_center_coordinates_i = nx//2\n",
    "cell_center_coordinates_j = ny//2\n",
    "\n",
    "for iteration in range(num_iterations):\n",
    "    for i in range(1, nx-1): # nx normally\n",
    "        for j in range(1, ny-1):\n",
    "            # random velocity input at center cell\n",
    "            #velocity_field_u[cell_center_coordinates_i][cell_center_coordinates_j] = np.random.random()\n",
    "            #velocity_field_v[cell_center_coordinates_i][cell_center_coordinates_j] = np.random.random()\n",
    "            velocity_field_u[cell_center_coordinates_i][cell_center_coordinates_j] = 1\n",
    "            \n",
    "            #velocity_field_v += dt*g\n",
    "            \n",
    "            d = get_divergence_of_cell(i, j, velocity_field_u, velocity_field_v)\n",
    "            s = get_s_value_of_cell(i, j, s_field)\n",
    "            \n",
    "            velocity_field_u[i][j] += d * s_field[i-1][j]/s\n",
    "            velocity_field_u[i+1][j] -= d * s_field[i+1][j]/s\n",
    "            velocity_field_v[i][j] += d * s_field[i][j-1]/s\n",
    "            velocity_field_u[i][j+1] -= d * s_field[i][j+1]/s\n",
    "\n",
    "            pressure_field += d/s*rho*h/dt # not necessary for simulation            \n",
    "            \n",
    "            \n",
    "        \n",
    "    #plot_velocity_field(grid_X, grid_Y, velocity_field_u, velocity_field_v)\n",
    "        \n",
    "        \n",
    "        "
   ]
  },
  {
   "cell_type": "code",
   "execution_count": null,
   "id": "69b8e8c6-e5f0-4c32-b16c-59bafaf2e9ad",
   "metadata": {},
   "outputs": [],
   "source": []
  }
 ],
 "metadata": {
  "kernelspec": {
   "display_name": "Python 3 (ipykernel)",
   "language": "python",
   "name": "python3"
  },
  "language_info": {
   "codemirror_mode": {
    "name": "ipython",
    "version": 3
   },
   "file_extension": ".py",
   "mimetype": "text/x-python",
   "name": "python",
   "nbconvert_exporter": "python",
   "pygments_lexer": "ipython3",
   "version": "3.11.4"
  }
 },
 "nbformat": 4,
 "nbformat_minor": 5
}
